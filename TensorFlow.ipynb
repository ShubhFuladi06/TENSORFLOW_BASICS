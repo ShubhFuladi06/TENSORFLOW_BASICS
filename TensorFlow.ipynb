{
  "nbformat": 4,
  "nbformat_minor": 0,
  "metadata": {
    "colab": {
      "name": "TensorFlow.ipynb",
      "provenance": [],
      "collapsed_sections": [],
      "include_colab_link": true
    },
    "kernelspec": {
      "name": "python3",
      "display_name": "Python 3"
    },
    "language_info": {
      "name": "python"
    },
    "accelerator": "GPU"
  },
  "cells": [
    {
      "cell_type": "markdown",
      "metadata": {
        "id": "view-in-github",
        "colab_type": "text"
      },
      "source": [
        "<a href=\"https://colab.research.google.com/github/ShubhenduFuladi/desktop-tutorial/blob/main/TensorFlow.ipynb\" target=\"_parent\"><img src=\"https://colab.research.google.com/assets/colab-badge.svg\" alt=\"Open In Colab\"/></a>"
      ]
    },
    {
      "cell_type": "code",
      "execution_count": 1,
      "metadata": {
        "id": "-0xTsQdKcmTn"
      },
      "outputs": [],
      "source": [
        "import tensorflow as tf"
      ]
    },
    {
      "cell_type": "code",
      "source": [
        "tf.__version__"
      ],
      "metadata": {
        "colab": {
          "base_uri": "https://localhost:8080/",
          "height": 35
        },
        "id": "kLhUR31Yd1Yg",
        "outputId": "fcd1b70c-402b-45da-95e7-0ea6af5c7b40"
      },
      "execution_count": 2,
      "outputs": [
        {
          "output_type": "execute_result",
          "data": {
            "application/vnd.google.colaboratory.intrinsic+json": {
              "type": "string"
            },
            "text/plain": [
              "'2.7.0'"
            ]
          },
          "metadata": {},
          "execution_count": 2
        }
      ]
    },
    {
      "cell_type": "markdown",
      "source": [
        "## Tensor constant\n",
        "\n",
        "Tensor: Multi dim array"
      ],
      "metadata": {
        "id": "YSjI5YeKd_Pz"
      }
    },
    {
      "cell_type": "code",
      "source": [
        "const = tf.constant(43)"
      ],
      "metadata": {
        "id": "-7y9DmOCd22O"
      },
      "execution_count": 3,
      "outputs": []
    },
    {
      "cell_type": "code",
      "source": [
        "const"
      ],
      "metadata": {
        "colab": {
          "base_uri": "https://localhost:8080/"
        },
        "id": "bpKQ_zdAeHMJ",
        "outputId": "b0d683e0-c66f-4c72-b4dc-3ce19047874c"
      },
      "execution_count": 4,
      "outputs": [
        {
          "output_type": "execute_result",
          "data": {
            "text/plain": [
              "<tf.Tensor: shape=(), dtype=int32, numpy=43>"
            ]
          },
          "metadata": {},
          "execution_count": 4
        }
      ]
    },
    {
      "cell_type": "code",
      "source": [
        "const.numpy()"
      ],
      "metadata": {
        "colab": {
          "base_uri": "https://localhost:8080/"
        },
        "id": "fOQgZzSieIM8",
        "outputId": "133c611f-5cce-4a56-c227-5e994d98fb5e"
      },
      "execution_count": 5,
      "outputs": [
        {
          "output_type": "execute_result",
          "data": {
            "text/plain": [
              "43"
            ]
          },
          "metadata": {},
          "execution_count": 5
        }
      ]
    },
    {
      "cell_type": "markdown",
      "source": [
        "JAX: Built on Numpy but it supports CUDA"
      ],
      "metadata": {
        "id": "2E10Q366exMW"
      }
    },
    {
      "cell_type": "code",
      "source": [
        "# for specific datatype\n",
        "\n",
        "const = tf.constant(43, dtype=tf.float32)\n",
        "\n",
        "const"
      ],
      "metadata": {
        "colab": {
          "base_uri": "https://localhost:8080/"
        },
        "id": "k978Lcghegia",
        "outputId": "155ecb9d-40b4-4084-e2f7-c8f9c2a2f384"
      },
      "execution_count": 6,
      "outputs": [
        {
          "output_type": "execute_result",
          "data": {
            "text/plain": [
              "<tf.Tensor: shape=(), dtype=float32, numpy=43.0>"
            ]
          },
          "metadata": {},
          "execution_count": 6
        }
      ]
    },
    {
      "cell_type": "code",
      "source": [
        "const.numpy()"
      ],
      "metadata": {
        "colab": {
          "base_uri": "https://localhost:8080/"
        },
        "id": "oB4acuRkfUHE",
        "outputId": "9a5239b6-1bf0-43e0-a527-421203e4c8cc"
      },
      "execution_count": 7,
      "outputs": [
        {
          "output_type": "execute_result",
          "data": {
            "text/plain": [
              "43.0"
            ]
          },
          "metadata": {},
          "execution_count": 7
        }
      ]
    },
    {
      "cell_type": "code",
      "source": [
        "const_mat = tf.constant([[1,3],[4,5]], dtype=tf.float32)\n",
        "\n",
        "const_mat"
      ],
      "metadata": {
        "colab": {
          "base_uri": "https://localhost:8080/"
        },
        "id": "5gvXAlQsfYQ7",
        "outputId": "a3d91440-4b17-4a75-ae98-ff2e4e580e77"
      },
      "execution_count": 8,
      "outputs": [
        {
          "output_type": "execute_result",
          "data": {
            "text/plain": [
              "<tf.Tensor: shape=(2, 2), dtype=float32, numpy=\n",
              "array([[1., 3.],\n",
              "       [4., 5.]], dtype=float32)>"
            ]
          },
          "metadata": {},
          "execution_count": 8
        }
      ]
    },
    {
      "cell_type": "code",
      "source": [
        "const_mat.shape"
      ],
      "metadata": {
        "colab": {
          "base_uri": "https://localhost:8080/"
        },
        "id": "LGi7v1TDfj8S",
        "outputId": "9897cc10-1af6-418a-b0f5-c89199d90f69"
      },
      "execution_count": 9,
      "outputs": [
        {
          "output_type": "execute_result",
          "data": {
            "text/plain": [
              "TensorShape([2, 2])"
            ]
          },
          "metadata": {},
          "execution_count": 9
        }
      ]
    },
    {
      "cell_type": "code",
      "source": [
        "const_mat.dtype"
      ],
      "metadata": {
        "colab": {
          "base_uri": "https://localhost:8080/"
        },
        "id": "rF0os-xbgBN6",
        "outputId": "df0646ee-3dee-4d3a-8734-357d4cae16fd"
      },
      "execution_count": 10,
      "outputs": [
        {
          "output_type": "execute_result",
          "data": {
            "text/plain": [
              "tf.float32"
            ]
          },
          "metadata": {},
          "execution_count": 10
        }
      ]
    },
    {
      "cell_type": "code",
      "source": [
        "## const_mat[0][0] = 32"
      ],
      "metadata": {
        "id": "5w1Jc0sCgFw0"
      },
      "execution_count": 11,
      "outputs": []
    },
    {
      "cell_type": "markdown",
      "source": [
        "## Commonly used method"
      ],
      "metadata": {
        "id": "mCyo0RFUgUCm"
      }
    },
    {
      "cell_type": "code",
      "source": [
        "tf.ones(shape=(2,3))"
      ],
      "metadata": {
        "colab": {
          "base_uri": "https://localhost:8080/"
        },
        "id": "9eYEMbFqgMYP",
        "outputId": "615b3acf-99eb-491c-82f7-4aa39bfb15ee"
      },
      "execution_count": 12,
      "outputs": [
        {
          "output_type": "execute_result",
          "data": {
            "text/plain": [
              "<tf.Tensor: shape=(2, 3), dtype=float32, numpy=\n",
              "array([[1., 1., 1.],\n",
              "       [1., 1., 1.]], dtype=float32)>"
            ]
          },
          "metadata": {},
          "execution_count": 12
        }
      ]
    },
    {
      "cell_type": "code",
      "source": [
        "-1*tf.ones(shape=(2,3))"
      ],
      "metadata": {
        "colab": {
          "base_uri": "https://localhost:8080/"
        },
        "id": "fOb6dNccgb1X",
        "outputId": "bd7e1c18-a9a5-4e9f-8154-5ebad352439f"
      },
      "execution_count": 13,
      "outputs": [
        {
          "output_type": "execute_result",
          "data": {
            "text/plain": [
              "<tf.Tensor: shape=(2, 3), dtype=float32, numpy=\n",
              "array([[-1., -1., -1.],\n",
              "       [-1., -1., -1.]], dtype=float32)>"
            ]
          },
          "metadata": {},
          "execution_count": 13
        }
      ]
    },
    {
      "cell_type": "code",
      "source": [
        "6*tf.ones(shape=(2,3))"
      ],
      "metadata": {
        "colab": {
          "base_uri": "https://localhost:8080/"
        },
        "id": "n7R0TwkVgrXE",
        "outputId": "4ce48a7e-e4ab-4ffa-eaf7-4079933d7064"
      },
      "execution_count": 14,
      "outputs": [
        {
          "output_type": "execute_result",
          "data": {
            "text/plain": [
              "<tf.Tensor: shape=(2, 3), dtype=float32, numpy=\n",
              "array([[6., 6., 6.],\n",
              "       [6., 6., 6.]], dtype=float32)>"
            ]
          },
          "metadata": {},
          "execution_count": 14
        }
      ]
    },
    {
      "cell_type": "code",
      "source": [
        "tf.zeros(shape=(2,4))"
      ],
      "metadata": {
        "colab": {
          "base_uri": "https://localhost:8080/"
        },
        "id": "K2GofyOwguc2",
        "outputId": "ba3b1d7d-8aeb-41a1-ded0-5fdcd0a47d6a"
      },
      "execution_count": 15,
      "outputs": [
        {
          "output_type": "execute_result",
          "data": {
            "text/plain": [
              "<tf.Tensor: shape=(2, 4), dtype=float32, numpy=\n",
              "array([[0., 0., 0., 0.],\n",
              "       [0., 0., 0., 0.]], dtype=float32)>"
            ]
          },
          "metadata": {},
          "execution_count": 15
        }
      ]
    },
    {
      "cell_type": "markdown",
      "source": [
        "## add operations"
      ],
      "metadata": {
        "id": "wAOwWTE9hJAd"
      }
    },
    {
      "cell_type": "code",
      "source": [
        "const1 = tf.constant([[1,2,3],[4,5,6]])\n",
        "const2 = tf.constant([[2,5,3],[3,5,8]])"
      ],
      "metadata": {
        "id": "66cNuh8khFLM"
      },
      "execution_count": 16,
      "outputs": []
    },
    {
      "cell_type": "code",
      "source": [
        "const1 + const2"
      ],
      "metadata": {
        "colab": {
          "base_uri": "https://localhost:8080/"
        },
        "id": "ST6TgxefhUyJ",
        "outputId": "ba580492-d4fc-4298-9359-076407effa62"
      },
      "execution_count": 17,
      "outputs": [
        {
          "output_type": "execute_result",
          "data": {
            "text/plain": [
              "<tf.Tensor: shape=(2, 3), dtype=int32, numpy=\n",
              "array([[ 3,  7,  6],\n",
              "       [ 7, 10, 14]], dtype=int32)>"
            ]
          },
          "metadata": {},
          "execution_count": 17
        }
      ]
    },
    {
      "cell_type": "code",
      "source": [
        "tf.add(const1, const2)"
      ],
      "metadata": {
        "colab": {
          "base_uri": "https://localhost:8080/"
        },
        "id": "D4lXZRZuhWmJ",
        "outputId": "c58f786c-1ff3-4c22-aded-7154bdc7eb42"
      },
      "execution_count": 18,
      "outputs": [
        {
          "output_type": "execute_result",
          "data": {
            "text/plain": [
              "<tf.Tensor: shape=(2, 3), dtype=int32, numpy=\n",
              "array([[ 3,  7,  6],\n",
              "       [ 7, 10, 14]], dtype=int32)>"
            ]
          },
          "metadata": {},
          "execution_count": 18
        }
      ]
    },
    {
      "cell_type": "markdown",
      "source": [
        "## Random const"
      ],
      "metadata": {
        "id": "MqSgXhBShfCb"
      }
    },
    {
      "cell_type": "code",
      "source": [
        "tf.random.normal(shape=(2,2), mean=0, stddev=1.0)"
      ],
      "metadata": {
        "colab": {
          "base_uri": "https://localhost:8080/"
        },
        "id": "tnodoq3Ihbd-",
        "outputId": "84a0bc3f-95cf-40f5-bc8d-7ecbef43fd85"
      },
      "execution_count": 19,
      "outputs": [
        {
          "output_type": "execute_result",
          "data": {
            "text/plain": [
              "<tf.Tensor: shape=(2, 2), dtype=float32, numpy=\n",
              "array([[1.1892564 , 2.3373814 ],\n",
              "       [0.2929942 , 0.23083656]], dtype=float32)>"
            ]
          },
          "metadata": {},
          "execution_count": 19
        }
      ]
    },
    {
      "cell_type": "code",
      "source": [
        "tf.random.uniform(shape=(2,2), minval=0, maxval=20)"
      ],
      "metadata": {
        "colab": {
          "base_uri": "https://localhost:8080/"
        },
        "id": "FHrQ6EzNhq4L",
        "outputId": "3640695f-7e23-412f-a372-acac41aa7dc3"
      },
      "execution_count": 20,
      "outputs": [
        {
          "output_type": "execute_result",
          "data": {
            "text/plain": [
              "<tf.Tensor: shape=(2, 2), dtype=float32, numpy=\n",
              "array([[ 6.3237357, 13.620537 ],\n",
              "       [18.908417 , 19.947186 ]], dtype=float32)>"
            ]
          },
          "metadata": {},
          "execution_count": 20
        }
      ]
    },
    {
      "cell_type": "markdown",
      "source": [
        "## Variables"
      ],
      "metadata": {
        "id": "Kxij8tsrh7Nf"
      }
    },
    {
      "cell_type": "code",
      "source": [
        "var1 = tf.Variable([[1,2,3],[4,5,6]])"
      ],
      "metadata": {
        "id": "HvewIzdxh1Kk"
      },
      "execution_count": 21,
      "outputs": []
    },
    {
      "cell_type": "code",
      "source": [
        "var2 = tf.Variable(43)"
      ],
      "metadata": {
        "id": "YjQXqEZFiIDD"
      },
      "execution_count": 22,
      "outputs": []
    },
    {
      "cell_type": "code",
      "source": [
        "var2.assign(32)"
      ],
      "metadata": {
        "colab": {
          "base_uri": "https://localhost:8080/"
        },
        "id": "3aUquiktiS9k",
        "outputId": "26faf889-027b-4804-82b3-41d9da9e71e0"
      },
      "execution_count": 23,
      "outputs": [
        {
          "output_type": "execute_result",
          "data": {
            "text/plain": [
              "<tf.Variable 'UnreadVariable' shape=() dtype=int32, numpy=32>"
            ]
          },
          "metadata": {},
          "execution_count": 23
        }
      ]
    },
    {
      "cell_type": "code",
      "source": [
        "var2"
      ],
      "metadata": {
        "colab": {
          "base_uri": "https://localhost:8080/"
        },
        "id": "Oz3FmPAziXR6",
        "outputId": "f84a3456-627c-4094-f1bc-90456850d75b"
      },
      "execution_count": 24,
      "outputs": [
        {
          "output_type": "execute_result",
          "data": {
            "text/plain": [
              "<tf.Variable 'Variable:0' shape=() dtype=int32, numpy=32>"
            ]
          },
          "metadata": {},
          "execution_count": 24
        }
      ]
    },
    {
      "cell_type": "code",
      "source": [
        "type(var2)"
      ],
      "metadata": {
        "colab": {
          "base_uri": "https://localhost:8080/"
        },
        "id": "ru3TJzCNjbfu",
        "outputId": "6a902b90-75af-4209-c354-1a4bd0bdb7d3"
      },
      "execution_count": 25,
      "outputs": [
        {
          "output_type": "execute_result",
          "data": {
            "text/plain": [
              "tensorflow.python.ops.resource_variable_ops.ResourceVariable"
            ]
          },
          "metadata": {},
          "execution_count": 25
        }
      ]
    },
    {
      "cell_type": "code",
      "source": [
        "var2 = 33"
      ],
      "metadata": {
        "id": "1_QNnnX4iYe7"
      },
      "execution_count": 26,
      "outputs": []
    },
    {
      "cell_type": "code",
      "source": [
        "type(var2)"
      ],
      "metadata": {
        "colab": {
          "base_uri": "https://localhost:8080/"
        },
        "id": "7nv06z8xiljW",
        "outputId": "d994e0e4-c6e7-45ae-ef38-908038179534"
      },
      "execution_count": 27,
      "outputs": [
        {
          "output_type": "execute_result",
          "data": {
            "text/plain": [
              "int"
            ]
          },
          "metadata": {},
          "execution_count": 27
        }
      ]
    },
    {
      "cell_type": "code",
      "source": [
        "var1.assign([[22,2,3],[4,5,6]])"
      ],
      "metadata": {
        "colab": {
          "base_uri": "https://localhost:8080/"
        },
        "id": "5SBYUhbLjVdw",
        "outputId": "36235c3a-221c-460f-ae32-60652428806f"
      },
      "execution_count": 28,
      "outputs": [
        {
          "output_type": "execute_result",
          "data": {
            "text/plain": [
              "<tf.Variable 'UnreadVariable' shape=(2, 3) dtype=int32, numpy=\n",
              "array([[22,  2,  3],\n",
              "       [ 4,  5,  6]], dtype=int32)>"
            ]
          },
          "metadata": {},
          "execution_count": 28
        }
      ]
    },
    {
      "cell_type": "code",
      "source": [
        "var1[1,1].assign(34)\n",
        "\n",
        "var1"
      ],
      "metadata": {
        "colab": {
          "base_uri": "https://localhost:8080/"
        },
        "id": "qhc9mELIj4YV",
        "outputId": "430cdd07-8c7c-4f7e-f9b6-453d23b0af99"
      },
      "execution_count": 29,
      "outputs": [
        {
          "output_type": "execute_result",
          "data": {
            "text/plain": [
              "<tf.Variable 'Variable:0' shape=(2, 3) dtype=int32, numpy=\n",
              "array([[22,  2,  3],\n",
              "       [ 4, 34,  6]], dtype=int32)>"
            ]
          },
          "metadata": {},
          "execution_count": 29
        }
      ]
    },
    {
      "cell_type": "code",
      "source": [
        "### var1[1][1].assign(34) ..ERROR"
      ],
      "metadata": {
        "id": "tnqBS6cMkDCZ"
      },
      "execution_count": 30,
      "outputs": []
    },
    {
      "cell_type": "code",
      "source": [
        "## var1.assign([[22,2,3],[4,5,6],[3,4,5]])   ..ERROR"
      ],
      "metadata": {
        "id": "lIUa4lK4jqDp"
      },
      "execution_count": 31,
      "outputs": []
    },
    {
      "cell_type": "markdown",
      "source": [
        "## reshaping operation"
      ],
      "metadata": {
        "id": "rSwjWNoSkYP7"
      }
    },
    {
      "cell_type": "code",
      "source": [
        "tensor = tf.Variable([[22,2,3],[4,5,6]])\n",
        "\n",
        "tensor.shape"
      ],
      "metadata": {
        "colab": {
          "base_uri": "https://localhost:8080/"
        },
        "id": "e314JN9pjtYF",
        "outputId": "6b0fdb13-4a94-41b1-8a2c-8de6487e6597"
      },
      "execution_count": 32,
      "outputs": [
        {
          "output_type": "execute_result",
          "data": {
            "text/plain": [
              "TensorShape([2, 3])"
            ]
          },
          "metadata": {},
          "execution_count": 32
        }
      ]
    },
    {
      "cell_type": "code",
      "source": [
        "tf.reshape(tensor, [3,2])"
      ],
      "metadata": {
        "colab": {
          "base_uri": "https://localhost:8080/"
        },
        "id": "nBdiGl_PklW2",
        "outputId": "f7750516-7c21-4c47-8dce-ce6ae1ed2156"
      },
      "execution_count": 33,
      "outputs": [
        {
          "output_type": "execute_result",
          "data": {
            "text/plain": [
              "<tf.Tensor: shape=(3, 2), dtype=int32, numpy=\n",
              "array([[22,  2],\n",
              "       [ 3,  4],\n",
              "       [ 5,  6]], dtype=int32)>"
            ]
          },
          "metadata": {},
          "execution_count": 33
        }
      ]
    },
    {
      "cell_type": "code",
      "source": [
        "tf.reshape(tensor, [1,6])\n"
      ],
      "metadata": {
        "colab": {
          "base_uri": "https://localhost:8080/"
        },
        "id": "U9rIN5n_ktXp",
        "outputId": "48d12d6a-7515-4c57-e001-6ba924b16b78"
      },
      "execution_count": 34,
      "outputs": [
        {
          "output_type": "execute_result",
          "data": {
            "text/plain": [
              "<tf.Tensor: shape=(1, 6), dtype=int32, numpy=array([[22,  2,  3,  4,  5,  6]], dtype=int32)>"
            ]
          },
          "metadata": {},
          "execution_count": 34
        }
      ]
    },
    {
      "cell_type": "code",
      "source": [
        "tf.reshape(tensor, [6,1])\n"
      ],
      "metadata": {
        "colab": {
          "base_uri": "https://localhost:8080/"
        },
        "id": "EwBnYdeMkxIR",
        "outputId": "01b747dd-c722-44d6-a9ee-cc83207be7ee"
      },
      "execution_count": 35,
      "outputs": [
        {
          "output_type": "execute_result",
          "data": {
            "text/plain": [
              "<tf.Tensor: shape=(6, 1), dtype=int32, numpy=\n",
              "array([[22],\n",
              "       [ 2],\n",
              "       [ 3],\n",
              "       [ 4],\n",
              "       [ 5],\n",
              "       [ 6]], dtype=int32)>"
            ]
          },
          "metadata": {},
          "execution_count": 35
        }
      ]
    },
    {
      "cell_type": "markdown",
      "source": [
        "## other mathematical ops"
      ],
      "metadata": {
        "id": "v5gYdlJIlAtz"
      }
    },
    {
      "cell_type": "code",
      "source": [
        "var1"
      ],
      "metadata": {
        "colab": {
          "base_uri": "https://localhost:8080/"
        },
        "id": "DaNHbSGZkz7O",
        "outputId": "e2bde3a5-6372-4bdc-e24f-8beb19911f5b"
      },
      "execution_count": 36,
      "outputs": [
        {
          "output_type": "execute_result",
          "data": {
            "text/plain": [
              "<tf.Variable 'Variable:0' shape=(2, 3) dtype=int32, numpy=\n",
              "array([[22,  2,  3],\n",
              "       [ 4, 34,  6]], dtype=int32)>"
            ]
          },
          "metadata": {},
          "execution_count": 36
        }
      ]
    },
    {
      "cell_type": "code",
      "source": [
        "tf.square(var1)"
      ],
      "metadata": {
        "colab": {
          "base_uri": "https://localhost:8080/"
        },
        "id": "HnVU_JxilD34",
        "outputId": "c8ca65ac-ead9-4b2e-fff5-fa20c367b902"
      },
      "execution_count": 37,
      "outputs": [
        {
          "output_type": "execute_result",
          "data": {
            "text/plain": [
              "<tf.Tensor: shape=(2, 3), dtype=int32, numpy=\n",
              "array([[ 484,    4,    9],\n",
              "       [  16, 1156,   36]], dtype=int32)>"
            ]
          },
          "metadata": {},
          "execution_count": 37
        }
      ]
    },
    {
      "cell_type": "markdown",
      "source": [
        "## [detailed link of the demo of all the funcitons in tensorflow ](https://colab.research.google.com/drive/12sBvm2ON-gAWNisJD1dpoNTdFri3dEjE?usp=sharing)"
      ],
      "metadata": {
        "id": "DtCZYB8xl9Kn"
      }
    },
    {
      "cell_type": "markdown",
      "source": [
        "## Broadcasting in TF"
      ],
      "metadata": {
        "id": "EdzniccgmR1h"
      }
    },
    {
      "cell_type": "code",
      "source": [
        "tensor"
      ],
      "metadata": {
        "colab": {
          "base_uri": "https://localhost:8080/"
        },
        "id": "ACsR0-WSmaEY",
        "outputId": "3e2bcc9c-5581-4fce-8c3c-0b5737d37a7d"
      },
      "execution_count": 38,
      "outputs": [
        {
          "output_type": "execute_result",
          "data": {
            "text/plain": [
              "<tf.Variable 'Variable:0' shape=(2, 3) dtype=int32, numpy=\n",
              "array([[22,  2,  3],\n",
              "       [ 4,  5,  6]], dtype=int32)>"
            ]
          },
          "metadata": {},
          "execution_count": 38
        }
      ]
    },
    {
      "cell_type": "code",
      "source": [
        "scaler = 4\n",
        "\n",
        "scaler * tensor"
      ],
      "metadata": {
        "colab": {
          "base_uri": "https://localhost:8080/"
        },
        "id": "huV2ZAtjlvUb",
        "outputId": "2ee0fe96-65d1-4cfa-ca77-f28d4e8b63ac"
      },
      "execution_count": 39,
      "outputs": [
        {
          "output_type": "execute_result",
          "data": {
            "text/plain": [
              "<tf.Tensor: shape=(2, 3), dtype=int32, numpy=\n",
              "array([[88,  8, 12],\n",
              "       [16, 20, 24]], dtype=int32)>"
            ]
          },
          "metadata": {},
          "execution_count": 39
        }
      ]
    },
    {
      "cell_type": "code",
      "source": [
        "scaler + tensor"
      ],
      "metadata": {
        "colab": {
          "base_uri": "https://localhost:8080/"
        },
        "id": "XE1X41ncmdkd",
        "outputId": "1791bf6f-15af-49ad-b535-b9379bd73053"
      },
      "execution_count": 40,
      "outputs": [
        {
          "output_type": "execute_result",
          "data": {
            "text/plain": [
              "<tf.Tensor: shape=(2, 3), dtype=int32, numpy=\n",
              "array([[26,  6,  7],\n",
              "       [ 8,  9, 10]], dtype=int32)>"
            ]
          },
          "metadata": {},
          "execution_count": 40
        }
      ]
    },
    {
      "cell_type": "code",
      "source": [
        ""
      ],
      "metadata": {
        "id": "8xPgxuQvENe9"
      },
      "execution_count": 40,
      "outputs": []
    },
    {
      "cell_type": "markdown",
      "source": [
        "## Matrix Multiplication"
      ],
      "metadata": {
        "id": "pqhfxArqnHhR"
      }
    },
    {
      "cell_type": "code",
      "source": [
        "mat_u = tf.constant([[6,7,7]])\n",
        "mat_v = tf.constant([[3,4,3]])"
      ],
      "metadata": {
        "id": "NaMDFsYynFAS"
      },
      "execution_count": 41,
      "outputs": []
    },
    {
      "cell_type": "code",
      "source": [
        "mat_u.shape"
      ],
      "metadata": {
        "colab": {
          "base_uri": "https://localhost:8080/"
        },
        "id": "EOSqMEkfnLag",
        "outputId": "69bf5662-8de1-42f6-fcdc-be052e3d1072"
      },
      "execution_count": 42,
      "outputs": [
        {
          "output_type": "execute_result",
          "data": {
            "text/plain": [
              "TensorShape([1, 3])"
            ]
          },
          "metadata": {},
          "execution_count": 42
        }
      ]
    },
    {
      "cell_type": "code",
      "source": [
        "mat_v.shape"
      ],
      "metadata": {
        "colab": {
          "base_uri": "https://localhost:8080/"
        },
        "id": "V41yml_mnNj8",
        "outputId": "451f25d7-2b76-4e63-dcd3-486aeb0211ef"
      },
      "execution_count": 43,
      "outputs": [
        {
          "output_type": "execute_result",
          "data": {
            "text/plain": [
              "TensorShape([1, 3])"
            ]
          },
          "metadata": {},
          "execution_count": 43
        }
      ]
    },
    {
      "cell_type": "markdown",
      "source": [
        "Rule: column of mat A = row of matrix B. If you are multiplying AB"
      ],
      "metadata": {
        "id": "dA9B2vHjnUzH"
      }
    },
    {
      "cell_type": "code",
      "source": [
        "##tf.matmul(mat_u, mat_v)   .....ERROR"
      ],
      "metadata": {
        "id": "RS4UDhxrnPKX"
      },
      "execution_count": 44,
      "outputs": []
    },
    {
      "cell_type": "code",
      "source": [
        "tf.matmul(mat_u, tf.transpose(mat_v))"
      ],
      "metadata": {
        "colab": {
          "base_uri": "https://localhost:8080/"
        },
        "id": "EiQfLYbtniSY",
        "outputId": "360fd69e-1b50-437e-aa30-6528ea97556e"
      },
      "execution_count": 45,
      "outputs": [
        {
          "output_type": "execute_result",
          "data": {
            "text/plain": [
              "<tf.Tensor: shape=(1, 1), dtype=int32, numpy=array([[67]], dtype=int32)>"
            ]
          },
          "metadata": {},
          "execution_count": 45
        }
      ]
    },
    {
      "cell_type": "code",
      "source": [
        "## alternative to above\n",
        "\n",
        "mat_u @ tf.transpose(mat_v)"
      ],
      "metadata": {
        "colab": {
          "base_uri": "https://localhost:8080/"
        },
        "id": "EOOTxICDn5w7",
        "outputId": "ff1922bb-7b3f-4ac3-a900-8dd17b0e10dd"
      },
      "execution_count": 46,
      "outputs": [
        {
          "output_type": "execute_result",
          "data": {
            "text/plain": [
              "<tf.Tensor: shape=(1, 1), dtype=int32, numpy=array([[67]], dtype=int32)>"
            ]
          },
          "metadata": {},
          "execution_count": 46
        }
      ]
    },
    {
      "cell_type": "code",
      "source": [
        "tf.matmul(tf.transpose(mat_u), mat_v)"
      ],
      "metadata": {
        "colab": {
          "base_uri": "https://localhost:8080/"
        },
        "id": "zaC139UbnqEY",
        "outputId": "a881e05d-581c-4c36-a05d-28cd92ca737d"
      },
      "execution_count": 47,
      "outputs": [
        {
          "output_type": "execute_result",
          "data": {
            "text/plain": [
              "<tf.Tensor: shape=(3, 3), dtype=int32, numpy=\n",
              "array([[18, 24, 18],\n",
              "       [21, 28, 21],\n",
              "       [21, 28, 21]], dtype=int32)>"
            ]
          },
          "metadata": {},
          "execution_count": 47
        }
      ]
    },
    {
      "cell_type": "code",
      "source": [
        "mat_u * mat_v # element wise multiplication\n",
        "# shape of both should be same"
      ],
      "metadata": {
        "colab": {
          "base_uri": "https://localhost:8080/"
        },
        "id": "HREUXEtNnzRQ",
        "outputId": "981daea9-77ad-4f49-98fe-eab4eee287ce"
      },
      "execution_count": 48,
      "outputs": [
        {
          "output_type": "execute_result",
          "data": {
            "text/plain": [
              "<tf.Tensor: shape=(1, 3), dtype=int32, numpy=array([[18, 28, 21]], dtype=int32)>"
            ]
          },
          "metadata": {},
          "execution_count": 48
        }
      ]
    },
    {
      "cell_type": "markdown",
      "source": [
        "\n",
        "\n",
        "```\n",
        "# This is formatted as code\n",
        "```\n",
        "\n",
        "## Casting method in tf to change the data type "
      ],
      "metadata": {
        "id": "p18KORyPoSos"
      }
    },
    {
      "cell_type": "code",
      "source": [
        "mat_u.dtype"
      ],
      "metadata": {
        "colab": {
          "base_uri": "https://localhost:8080/"
        },
        "id": "fwxDsyHSoDbv",
        "outputId": "26a43e0b-8ffd-4341-d044-bec3fbfd28ac"
      },
      "execution_count": 49,
      "outputs": [
        {
          "output_type": "execute_result",
          "data": {
            "text/plain": [
              "tf.int32"
            ]
          },
          "metadata": {},
          "execution_count": 49
        }
      ]
    },
    {
      "cell_type": "code",
      "source": [
        "tf.cast(mat_u, dtype=tf.int16) ## can be used in quantizing a model to save the space in the memory allocation\n"
      ],
      "metadata": {
        "colab": {
          "base_uri": "https://localhost:8080/"
        },
        "id": "s3l3utrYoa9h",
        "outputId": "dc5e7e9d-0b42-4985-d012-b1991566b0c0"
      },
      "execution_count": 50,
      "outputs": [
        {
          "output_type": "execute_result",
          "data": {
            "text/plain": [
              "<tf.Tensor: shape=(1, 3), dtype=int16, numpy=array([[6, 7, 7]], dtype=int16)>"
            ]
          },
          "metadata": {},
          "execution_count": 50
        }
      ]
    },
    {
      "cell_type": "code",
      "source": [
        "34.34343434 ## <<< THis will be more precise\n",
        "34.34"
      ],
      "metadata": {
        "id": "m5VbyvGioftA",
        "outputId": "5ea78d33-887f-453c-add3-6bf2e04e54f3",
        "colab": {
          "base_uri": "https://localhost:8080/"
        }
      },
      "execution_count": 51,
      "outputs": [
        {
          "output_type": "execute_result",
          "data": {
            "text/plain": [
              "34.34"
            ]
          },
          "metadata": {},
          "execution_count": 51
        }
      ]
    },
    {
      "cell_type": "markdown",
      "source": [
        "## Ragged tensors\n",
        "nested variable length arrays"
      ],
      "metadata": {
        "id": "jj1zVVbKpqnk"
      }
    },
    {
      "cell_type": "code",
      "source": [
        "ragged = tf.ragged.constant([[1,2,4,5,6], [1], [135,1]])"
      ],
      "metadata": {
        "id": "bYF-7TogpvVN"
      },
      "execution_count": 52,
      "outputs": []
    },
    {
      "cell_type": "code",
      "source": [
        "ragged.shape"
      ],
      "metadata": {
        "colab": {
          "base_uri": "https://localhost:8080/"
        },
        "id": "WtoKcYpLqG58",
        "outputId": "0c70f926-cbb1-4a18-a3cc-4a445684220e"
      },
      "execution_count": 53,
      "outputs": [
        {
          "output_type": "execute_result",
          "data": {
            "text/plain": [
              "TensorShape([3, None])"
            ]
          },
          "metadata": {},
          "execution_count": 53
        }
      ]
    },
    {
      "cell_type": "code",
      "source": [
        "ragged[0].shape"
      ],
      "metadata": {
        "colab": {
          "base_uri": "https://localhost:8080/"
        },
        "id": "kTGK17eAqI0d",
        "outputId": "6e4dfc94-28d7-4a68-9183-b5a8dab82536"
      },
      "execution_count": 54,
      "outputs": [
        {
          "output_type": "execute_result",
          "data": {
            "text/plain": [
              "TensorShape([5])"
            ]
          },
          "metadata": {},
          "execution_count": 54
        }
      ]
    },
    {
      "cell_type": "code",
      "source": [
        "ragged[1].shape\n"
      ],
      "metadata": {
        "colab": {
          "base_uri": "https://localhost:8080/"
        },
        "id": "E8NZsLNcql3w",
        "outputId": "594b541c-3289-4ae8-ace6-30f6a24e65a4"
      },
      "execution_count": 55,
      "outputs": [
        {
          "output_type": "execute_result",
          "data": {
            "text/plain": [
              "TensorShape([1])"
            ]
          },
          "metadata": {},
          "execution_count": 55
        }
      ]
    },
    {
      "cell_type": "markdown",
      "source": [
        "[link text](https://)## Checkpointing to restore the matrix [vals](https://)"
      ],
      "metadata": {
        "id": "qAT-uLabv5nj"
      }
    },
    {
      "cell_type": "markdown",
      "source": [
        ""
      ],
      "metadata": {
        "id": "-Rx8CM-xt3IX"
      }
    },
    {
      "cell_type": "code",
      "source": [
        "var1 = tf.Variable(5*tf.ones((5,5)))\n",
        "\n",
        "var1"
      ],
      "metadata": {
        "colab": {
          "base_uri": "https://localhost:8080/"
        },
        "id": "rLV5-4Upv6Hu",
        "outputId": "2c38e8c1-d456-4722-de30-7695d0f78058"
      },
      "execution_count": 56,
      "outputs": [
        {
          "output_type": "execute_result",
          "data": {
            "text/plain": [
              "<tf.Variable 'Variable:0' shape=(5, 5) dtype=float32, numpy=\n",
              "array([[5., 5., 5., 5., 5.],\n",
              "       [5., 5., 5., 5., 5.],\n",
              "       [5., 5., 5., 5., 5.],\n",
              "       [5., 5., 5., 5., 5.],\n",
              "       [5., 5., 5., 5., 5.]], dtype=float32)>"
            ]
          },
          "metadata": {},
          "execution_count": 56
        }
      ]
    },
    {
      "cell_type": "code",
      "source": [
        "ckpt = tf.train.Checkpoint(var=var1)\n",
        "savepath = ckpt.save(\"./vars.ckpt\")"
      ],
      "metadata": {
        "id": "XSI1knpIwAi0"
      },
      "execution_count": 57,
      "outputs": []
    },
    {
      "cell_type": "code",
      "source": [
        "var1.assign(tf.zeros((5,5)))"
      ],
      "metadata": {
        "colab": {
          "base_uri": "https://localhost:8080/"
        },
        "id": "an6n07dQwTyW",
        "outputId": "90d39a9d-a230-4750-e419-eb7ed27b4bec"
      },
      "execution_count": 58,
      "outputs": [
        {
          "output_type": "execute_result",
          "data": {
            "text/plain": [
              "<tf.Variable 'UnreadVariable' shape=(5, 5) dtype=float32, numpy=\n",
              "array([[0., 0., 0., 0., 0.],\n",
              "       [0., 0., 0., 0., 0.],\n",
              "       [0., 0., 0., 0., 0.],\n",
              "       [0., 0., 0., 0., 0.],\n",
              "       [0., 0., 0., 0., 0.]], dtype=float32)>"
            ]
          },
          "metadata": {},
          "execution_count": 58
        }
      ]
    },
    {
      "cell_type": "code",
      "source": [
        "var1"
      ],
      "metadata": {
        "colab": {
          "base_uri": "https://localhost:8080/"
        },
        "id": "9gGRqL7dwhPI",
        "outputId": "d7b54fd6-e8a5-4c96-c1b8-86d42190ec4e"
      },
      "execution_count": 59,
      "outputs": [
        {
          "output_type": "execute_result",
          "data": {
            "text/plain": [
              "<tf.Variable 'Variable:0' shape=(5, 5) dtype=float32, numpy=\n",
              "array([[0., 0., 0., 0., 0.],\n",
              "       [0., 0., 0., 0., 0.],\n",
              "       [0., 0., 0., 0., 0.],\n",
              "       [0., 0., 0., 0., 0.],\n",
              "       [0., 0., 0., 0., 0.]], dtype=float32)>"
            ]
          },
          "metadata": {},
          "execution_count": 59
        }
      ]
    },
    {
      "cell_type": "code",
      "source": [
        "ckpt.restore(savepath)"
      ],
      "metadata": {
        "colab": {
          "base_uri": "https://localhost:8080/"
        },
        "id": "yCoyeJpAwiUi",
        "outputId": "b82f1db8-58b7-4b78-a628-5d5c7acfc00f"
      },
      "execution_count": 60,
      "outputs": [
        {
          "output_type": "execute_result",
          "data": {
            "text/plain": [
              "<tensorflow.python.training.tracking.util.CheckpointLoadStatus at 0x7f2e07e4fe10>"
            ]
          },
          "metadata": {},
          "execution_count": 60
        }
      ]
    },
    {
      "cell_type": "code",
      "source": [
        "var1"
      ],
      "metadata": {
        "colab": {
          "base_uri": "https://localhost:8080/"
        },
        "id": "l-P_BslPwnCR",
        "outputId": "4f128813-f13c-4b3b-c928-e18d0add8db2"
      },
      "execution_count": 61,
      "outputs": [
        {
          "output_type": "execute_result",
          "data": {
            "text/plain": [
              "<tf.Variable 'Variable:0' shape=(5, 5) dtype=float32, numpy=\n",
              "array([[5., 5., 5., 5., 5.],\n",
              "       [5., 5., 5., 5., 5.],\n",
              "       [5., 5., 5., 5., 5.],\n",
              "       [5., 5., 5., 5., 5.],\n",
              "       [5., 5., 5., 5., 5.]], dtype=float32)>"
            ]
          },
          "metadata": {},
          "execution_count": 61
        }
      ]
    },
    {
      "cell_type": "markdown",
      "source": [
        "## tf.function"
      ],
      "metadata": {
        "id": "J2M7RpwYxl_A"
      }
    },
    {
      "cell_type": "markdown",
      "source": [
        "$z = x^3 * 6 + y^3$"
      ],
      "metadata": {
        "id": "rg2SL5goxpFa"
      }
    },
    {
      "cell_type": "code",
      "source": [
        "def f1(x, y):\n",
        "  input_var = tf.multiply(x ** 3, 6) + y ** 3\n",
        "  return tf.reduce_mean(input_tensor=input_var)"
      ],
      "metadata": {
        "id": "8F64OaDywoDs"
      },
      "execution_count": 62,
      "outputs": []
    },
    {
      "cell_type": "code",
      "source": [
        "func = tf.function(f1)"
      ],
      "metadata": {
        "id": "-IySBRVUyGEf"
      },
      "execution_count": 63,
      "outputs": []
    },
    {
      "cell_type": "code",
      "source": [
        "x = tf.constant([3.,-4.])\n",
        "y = tf.constant([1.,4.])"
      ],
      "metadata": {
        "id": "6ZCpqKLwyKVh"
      },
      "execution_count": 64,
      "outputs": []
    },
    {
      "cell_type": "code",
      "source": [
        "f1(x,y) ## using a simple python function"
      ],
      "metadata": {
        "colab": {
          "base_uri": "https://localhost:8080/"
        },
        "id": "4kamzCA4yZFz",
        "outputId": "03977a08-dfb6-4bef-edc0-16c4ef7f54af"
      },
      "execution_count": 65,
      "outputs": [
        {
          "output_type": "execute_result",
          "data": {
            "text/plain": [
              "<tf.Tensor: shape=(), dtype=float32, numpy=-78.5>"
            ]
          },
          "metadata": {},
          "execution_count": 65
        }
      ]
    },
    {
      "cell_type": "code",
      "source": [
        "func(x, y)"
      ],
      "metadata": {
        "colab": {
          "base_uri": "https://localhost:8080/"
        },
        "id": "9Bvfw7pjybpX",
        "outputId": "0d97f8f6-51a2-4411-ba78-d490efae928b"
      },
      "execution_count": 66,
      "outputs": [
        {
          "output_type": "execute_result",
          "data": {
            "text/plain": [
              "<tf.Tensor: shape=(), dtype=float32, numpy=-78.5>"
            ]
          },
          "metadata": {},
          "execution_count": 66
        }
      ]
    },
    {
      "cell_type": "code",
      "source": [
        "@tf.function ## tf decorator function\n",
        "def f2(x, y):\n",
        "  input_var = tf.multiply(x ** 3, 6) + y ** 3\n",
        "  return tf.reduce_mean(input_tensor=input_var)"
      ],
      "metadata": {
        "id": "g55tgSuhym4_"
      },
      "execution_count": 67,
      "outputs": []
    },
    {
      "cell_type": "code",
      "source": [
        "f2(x,y)"
      ],
      "metadata": {
        "colab": {
          "base_uri": "https://localhost:8080/"
        },
        "id": "GPU5St1Wzjp9",
        "outputId": "71d8e163-ab15-4ed4-99c8-84e7b59df43b"
      },
      "execution_count": 68,
      "outputs": [
        {
          "output_type": "execute_result",
          "data": {
            "text/plain": [
              "<tf.Tensor: shape=(), dtype=float32, numpy=-78.5>"
            ]
          },
          "metadata": {},
          "execution_count": 68
        }
      ]
    },
    {
      "cell_type": "markdown",
      "source": [
        "## Example of decorator"
      ],
      "metadata": {
        "id": "-_v_LMbGzuPs"
      }
    },
    {
      "cell_type": "code",
      "source": [
        "def print_me():\n",
        "  print(\"Hi FSDS\")"
      ],
      "metadata": {
        "id": "Tpy9lAAzzmd-"
      },
      "execution_count": 69,
      "outputs": []
    },
    {
      "cell_type": "code",
      "source": [
        "print_me()"
      ],
      "metadata": {
        "colab": {
          "base_uri": "https://localhost:8080/"
        },
        "id": "ljMsYpd1z2mR",
        "outputId": "22bdfd68-ed6b-4871-e961-4d7197b69b16"
      },
      "execution_count": 70,
      "outputs": [
        {
          "output_type": "stream",
          "name": "stdout",
          "text": [
            "Hi FSDS\n"
          ]
        }
      ]
    },
    {
      "cell_type": "code",
      "source": [
        "print(\"**\"*20)\n",
        "print_me()\n",
        "print(\"**\"*20)"
      ],
      "metadata": {
        "colab": {
          "base_uri": "https://localhost:8080/"
        },
        "id": "b5dD9LUsz6Vu",
        "outputId": "133b52b0-dd17-49cf-d0c8-1d770fac8f41"
      },
      "execution_count": 71,
      "outputs": [
        {
          "output_type": "stream",
          "name": "stdout",
          "text": [
            "****************************************\n",
            "Hi FSDS\n",
            "****************************************\n"
          ]
        }
      ]
    },
    {
      "cell_type": "code",
      "source": [
        "def decorate_it(input_func):\n",
        "  def decorated_func():\n",
        "    print(\"**\"*20)\n",
        "    input_func()\n",
        "    print(\"**\"*20)\n",
        "\n",
        "  return decorated_func"
      ],
      "metadata": {
        "id": "VncvEoMt0Aka"
      },
      "execution_count": 72,
      "outputs": []
    },
    {
      "cell_type": "code",
      "source": [
        "decorated_func = decorate_it(print_me)\n",
        "\n",
        "decorated_func()"
      ],
      "metadata": {
        "colab": {
          "base_uri": "https://localhost:8080/"
        },
        "id": "KA5UZUs20YF_",
        "outputId": "a889ff81-60e0-48a6-b958-ff7c48060dd7"
      },
      "execution_count": 73,
      "outputs": [
        {
          "output_type": "stream",
          "name": "stdout",
          "text": [
            "****************************************\n",
            "Hi FSDS\n",
            "****************************************\n"
          ]
        }
      ]
    },
    {
      "cell_type": "code",
      "source": [
        "@decorate_it\n",
        "def print_me2():\n",
        "  print(\"Hi FSDS\")"
      ],
      "metadata": {
        "id": "XHS0wqQw0gR1"
      },
      "execution_count": 74,
      "outputs": []
    },
    {
      "cell_type": "code",
      "source": [
        "print_me2()"
      ],
      "metadata": {
        "colab": {
          "base_uri": "https://localhost:8080/"
        },
        "id": "vVfJKwph0tt4",
        "outputId": "7554ecfa-5a2f-440b-e0bb-b9903c78c912"
      },
      "execution_count": 75,
      "outputs": [
        {
          "output_type": "stream",
          "name": "stdout",
          "text": [
            "****************************************\n",
            "Hi FSDS\n",
            "****************************************\n"
          ]
        }
      ]
    },
    {
      "cell_type": "code",
      "source": [
        "@decorate_it\n",
        "def print_my_name():\n",
        "  print(\"Sunny\")"
      ],
      "metadata": {
        "id": "ZINfTl460vJP"
      },
      "execution_count": 76,
      "outputs": []
    },
    {
      "cell_type": "code",
      "source": [
        "print_my_name()"
      ],
      "metadata": {
        "colab": {
          "base_uri": "https://localhost:8080/"
        },
        "id": "s3GgJKU905JF",
        "outputId": "19850076-36f1-486a-bb23-799855a1628d"
      },
      "execution_count": 77,
      "outputs": [
        {
          "output_type": "stream",
          "name": "stdout",
          "text": [
            "****************************************\n",
            "Sunny\n",
            "****************************************\n"
          ]
        }
      ]
    },
    {
      "cell_type": "markdown",
      "source": [
        "# Calculation of Gradients in tf"
      ],
      "metadata": {
        "id": "S8rmVScp1d8b"
      }
    },
    {
      "cell_type": "code",
      "source": [
        "x = tf.random.normal(shape=(2,2)) ## this creates a const by default\n",
        "y = tf.random.normal(shape=(2,2))"
      ],
      "metadata": {
        "id": "PR-iXxml066Y"
      },
      "execution_count": 78,
      "outputs": []
    },
    {
      "cell_type": "markdown",
      "source": [
        "$f(x,y) = \\sqrt{(x^2 + y^2)}$\n",
        "\n",
        "$\\nabla f(x,y) = \\frac{\\partial f}{\\partial x} \\hat{\\imath} + \\frac{\\partial f}{\\partial y} \\hat{\\jmath}$"
      ],
      "metadata": {
        "id": "uEp1aP4w1pJJ"
      }
    },
    {
      "cell_type": "code",
      "source": [
        "with tf.GradientTape() as tape:\n",
        "  tape.watch(x) ### <<< I want to calculate grad wrt x\n",
        "  f = tf.sqrt(tf.square(x) + tf.square(y))\n",
        "\n",
        "  df_dx = tape.gradient(f, x)\n",
        "\n",
        "  print(df_dx)"
      ],
      "metadata": {
        "colab": {
          "base_uri": "https://localhost:8080/"
        },
        "id": "svzN56yi1oRJ",
        "outputId": "c39acc9f-c79f-4901-ecd0-da48bd8adf36"
      },
      "execution_count": 79,
      "outputs": [
        {
          "output_type": "stream",
          "name": "stdout",
          "text": [
            "tf.Tensor(\n",
            "[[ 0.67524445 -0.3512272 ]\n",
            " [ 0.51957154 -0.04101162]], shape=(2, 2), dtype=float32)\n"
          ]
        }
      ]
    },
    {
      "cell_type": "code",
      "source": [
        "with tf.GradientTape() as tape:\n",
        "  tape.watch(y) ### <<< I want to calculate grad wrt y\n",
        "  f = tf.sqrt(tf.square(x) + tf.square(y))\n",
        "\n",
        "  df_dy = tape.gradient(f, y)\n",
        "\n",
        "  print(df_dy)"
      ],
      "metadata": {
        "colab": {
          "base_uri": "https://localhost:8080/"
        },
        "id": "TEdK3IHc2nlN",
        "outputId": "c2f46ed6-0249-405f-f2c9-7694752ef5cf"
      },
      "execution_count": 80,
      "outputs": [
        {
          "output_type": "stream",
          "name": "stdout",
          "text": [
            "tf.Tensor(\n",
            "[[ 0.73759395  0.9362903 ]\n",
            " [-0.8544269  -0.9991587 ]], shape=(2, 2), dtype=float32)\n"
          ]
        }
      ]
    },
    {
      "cell_type": "code",
      "source": [
        "## tf.watch is only needed when X and Y are not variables\n",
        "\n",
        "with tf.GradientTape() as tape:\n",
        "  tape.watch(y) ### <<< I want to calculate grad wrt y\n",
        "  tape.watch(x) ### <<< I want to calculate grad wrt x\n",
        "  f = tf.sqrt(tf.square(x) + tf.square(y))\n",
        "\n",
        "  df_dx, df_dy = tape.gradient(f, [x, y]) ## partial diff wrt x and y\n",
        "\n",
        "  print(df_dx)\n",
        "  print(df_dy)"
      ],
      "metadata": {
        "colab": {
          "base_uri": "https://localhost:8080/"
        },
        "id": "cUOQFNY0262l",
        "outputId": "5d56d63d-76c1-4249-b4d0-199e749e3e7e"
      },
      "execution_count": 81,
      "outputs": [
        {
          "output_type": "stream",
          "name": "stdout",
          "text": [
            "tf.Tensor(\n",
            "[[ 0.67524445 -0.3512272 ]\n",
            " [ 0.51957154 -0.04101162]], shape=(2, 2), dtype=float32)\n",
            "tf.Tensor(\n",
            "[[ 0.73759395  0.9362903 ]\n",
            " [-0.8544269  -0.9991587 ]], shape=(2, 2), dtype=float32)\n"
          ]
        }
      ]
    },
    {
      "cell_type": "code",
      "source": [
        "with tf.GradientTape() as tape:\n",
        "  f = tf.sqrt(tf.square(x) + tf.square(y))\n",
        "\n",
        "  df_dx, df_dy = tape.gradient(f, [x, y]) ## partial diff wrt x and y\n",
        "\n",
        "  print(df_dx)\n",
        "  print(df_dy)"
      ],
      "metadata": {
        "colab": {
          "base_uri": "https://localhost:8080/"
        },
        "id": "_VEsoD9A3LDV",
        "outputId": "f7f111e6-6dd0-4dea-a126-d7a6888485c0"
      },
      "execution_count": 82,
      "outputs": [
        {
          "output_type": "stream",
          "name": "stdout",
          "text": [
            "None\n",
            "None\n"
          ]
        }
      ]
    },
    {
      "cell_type": "code",
      "source": [
        "x = tf.Variable(tf.random.normal(shape=(2,2)))    ### USING VARIABLE\n",
        "y = tf.Variable(tf.random.normal(shape=(2,2)))"
      ],
      "metadata": {
        "id": "StiJ6jBT3fbN"
      },
      "execution_count": 83,
      "outputs": []
    },
    {
      "cell_type": "code",
      "source": [
        "with tf.GradientTape() as tape:\n",
        "  f = tf.sqrt(tf.square(x) + tf.square(y))\n",
        "\n",
        "  df_dx, df_dy = tape.gradient(f, [x, y]) ## partial diff wrt x and y\n",
        "\n",
        "  print(df_dx)\n",
        "  print(df_dy)"
      ],
      "metadata": {
        "colab": {
          "base_uri": "https://localhost:8080/"
        },
        "id": "Q3WEHsa23uGy",
        "outputId": "fffe770f-d3c7-4fd4-b420-71d5d834d223"
      },
      "execution_count": 84,
      "outputs": [
        {
          "output_type": "stream",
          "name": "stdout",
          "text": [
            "tf.Tensor(\n",
            "[[ 0.14662656 -0.5030529 ]\n",
            " [-0.45189452 -0.992393  ]], shape=(2, 2), dtype=float32)\n",
            "tf.Tensor(\n",
            "[[ 0.98919195 -0.86425555]\n",
            " [-0.89207137 -0.12310987]], shape=(2, 2), dtype=float32)\n"
          ]
        }
      ]
    },
    {
      "cell_type": "code",
      "source": [
        "x = tf.Variable(3.)\n",
        "y = tf.Variable(2.)"
      ],
      "metadata": {
        "id": "CVIcc6tr3v9s"
      },
      "execution_count": 85,
      "outputs": []
    },
    {
      "cell_type": "code",
      "source": [
        "with tf.GradientTape() as tape:\n",
        "  f = tf.sqrt(tf.square(x) + tf.square(y))\n",
        "\n",
        "  df_dx, df_dy = tape.gradient(f, [x, y]) ## partial diff wrt x and y\n",
        "\n",
        "  print(df_dx)\n",
        "  print(df_dy)"
      ],
      "metadata": {
        "colab": {
          "base_uri": "https://localhost:8080/"
        },
        "id": "VUxyhzQh37L3",
        "outputId": "eecab9c5-7517-47a4-8cee-d22412aa241c"
      },
      "execution_count": 86,
      "outputs": [
        {
          "output_type": "stream",
          "name": "stdout",
          "text": [
            "tf.Tensor(0.8320503, shape=(), dtype=float32)\n",
            "tf.Tensor(0.5547002, shape=(), dtype=float32)\n"
          ]
        }
      ]
    },
    {
      "cell_type": "code",
      "source": [
        "x/tf.sqrt(tf.square(x) + tf.square(y))"
      ],
      "metadata": {
        "colab": {
          "base_uri": "https://localhost:8080/"
        },
        "id": "YmODoIjV5Ari",
        "outputId": "1441d6cf-c399-40af-eab8-f7aa68be0cca"
      },
      "execution_count": 87,
      "outputs": [
        {
          "output_type": "execute_result",
          "data": {
            "text/plain": [
              "<tf.Tensor: shape=(), dtype=float32, numpy=0.8320503>"
            ]
          },
          "metadata": {},
          "execution_count": 87
        }
      ]
    },
    {
      "cell_type": "code",
      "source": [
        "y/tf.sqrt(tf.square(x) + tf.square(y))"
      ],
      "metadata": {
        "colab": {
          "base_uri": "https://localhost:8080/"
        },
        "id": "pYDdE_iK5REh",
        "outputId": "f78f8f0d-a8e3-4a1c-e67e-04975e8e7503"
      },
      "execution_count": 88,
      "outputs": [
        {
          "output_type": "execute_result",
          "data": {
            "text/plain": [
              "<tf.Tensor: shape=(), dtype=float32, numpy=0.5547002>"
            ]
          },
          "metadata": {},
          "execution_count": 88
        }
      ]
    },
    {
      "cell_type": "markdown",
      "source": [
        "## Simple linear regression example"
      ],
      "metadata": {
        "id": "IpkKw1yb5c6p"
      }
    },
    {
      "cell_type": "markdown",
      "source": [
        "$f(x) = W.x + b$"
      ],
      "metadata": {
        "id": "pw46VlPA5nfh"
      }
    },
    {
      "cell_type": "code",
      "source": [
        "TRUE_W = 3.0\n",
        "TRUE_B = 2.0\n",
        "\n",
        "NUM_EXAMPLES = 1000\n",
        "\n",
        "x = tf.random.normal(shape=[NUM_EXAMPLES])"
      ],
      "metadata": {
        "id": "oajRhzIU5Ucm"
      },
      "execution_count": 89,
      "outputs": []
    },
    {
      "cell_type": "code",
      "source": [
        "noise = tf.random.normal(shape=[NUM_EXAMPLES])"
      ],
      "metadata": {
        "id": "xuZ4DFU857ng"
      },
      "execution_count": 90,
      "outputs": []
    },
    {
      "cell_type": "code",
      "source": [
        "y = x * TRUE_W + TRUE_B + noise"
      ],
      "metadata": {
        "id": "hIzgxmVN6FXo"
      },
      "execution_count": 91,
      "outputs": []
    },
    {
      "cell_type": "code",
      "source": [
        "import matplotlib.pyplot as plt\n",
        "\n",
        "plt.scatter(x, y, c=\"b\")\n",
        "plt.show()"
      ],
      "metadata": {
        "colab": {
          "base_uri": "https://localhost:8080/",
          "height": 265
        },
        "id": "UNOKYHp96KL1",
        "outputId": "835f9eac-3a0d-4e7d-f149-de5de81391c8"
      },
      "execution_count": 92,
      "outputs": [
        {
          "output_type": "display_data",
          "data": {
            "image/png": "[encoded data removed]",
            "text/plain": [
              "<Figure size 432x288 with 1 Axes>"
            ]
          },
          "metadata": {
            "needs_background": "light"
          }
        }
      ]
    },
    {
      "cell_type": "markdown",
      "source": [
        "### Lets define a model"
      ],
      "metadata": {
        "id": "WcYrKlHM6f58"
      }
    },
    {
      "cell_type": "code",
      "source": [
        "class MyModel(tf.Module):\n",
        "  def __init__(self, **kwargs):\n",
        "    super().__init__(**kwargs)\n",
        "\n",
        "    # initial weights\n",
        "    self.w = tf.Variable(5.0)\n",
        "    self.b = tf.Variable(0.0)\n",
        "\n",
        "  def __call__(self, x):\n",
        "    return self.w*x + self.b"
      ],
      "metadata": {
        "id": "ACGiBJHw6VQp"
      },
      "execution_count": 93,
      "outputs": []
    },
    {
      "cell_type": "code",
      "source": [
        "class Test:\n",
        "  def __init__(self, x):\n",
        "    self.x = x\n",
        "\n",
        "  def __call__(self):\n",
        "    return self.x ** 3"
      ],
      "metadata": {
        "id": "m4R6I0lT7Ajd"
      },
      "execution_count": 94,
      "outputs": []
    },
    {
      "cell_type": "code",
      "source": [
        "obj = Test(2)\n",
        "obj"
      ],
      "metadata": {
        "colab": {
          "base_uri": "https://localhost:8080/"
        },
        "id": "abzFnvhd7NTz",
        "outputId": "62ecde98-6d93-4ca5-a369-2eade3981295"
      },
      "execution_count": 95,
      "outputs": [
        {
          "output_type": "execute_result",
          "data": {
            "text/plain": [
              "<__main__.Test at 0x7f2e00177590>"
            ]
          },
          "metadata": {},
          "execution_count": 95
        }
      ]
    },
    {
      "cell_type": "code",
      "source": [
        "obj()"
      ],
      "metadata": {
        "colab": {
          "base_uri": "https://localhost:8080/"
        },
        "id": "xzJUOt6F7QYW",
        "outputId": "7c5a49a8-1248-4cff-c470-e55544b8f85d"
      },
      "execution_count": 96,
      "outputs": [
        {
          "output_type": "execute_result",
          "data": {
            "text/plain": [
              "8"
            ]
          },
          "metadata": {},
          "execution_count": 96
        }
      ]
    },
    {
      "cell_type": "code",
      "source": [
        "model = MyModel()"
      ],
      "metadata": {
        "id": "mQVSyWXV7Syo"
      },
      "execution_count": 97,
      "outputs": []
    },
    {
      "cell_type": "code",
      "source": [
        "model(3)"
      ],
      "metadata": {
        "colab": {
          "base_uri": "https://localhost:8080/"
        },
        "id": "wubS1NxS7cQv",
        "outputId": "06069623-a35d-49f9-d18a-9ff528fd8da7"
      },
      "execution_count": 98,
      "outputs": [
        {
          "output_type": "execute_result",
          "data": {
            "text/plain": [
              "<tf.Tensor: shape=(), dtype=float32, numpy=15.0>"
            ]
          },
          "metadata": {},
          "execution_count": 98
        }
      ]
    },
    {
      "cell_type": "code",
      "source": [
        "model.w"
      ],
      "metadata": {
        "colab": {
          "base_uri": "https://localhost:8080/"
        },
        "id": "9OBNo2RQ7djt",
        "outputId": "d8e87b80-bf54-4c5b-88c8-96898d88152c"
      },
      "execution_count": 99,
      "outputs": [
        {
          "output_type": "execute_result",
          "data": {
            "text/plain": [
              "<tf.Variable 'Variable:0' shape=() dtype=float32, numpy=5.0>"
            ]
          },
          "metadata": {},
          "execution_count": 99
        }
      ]
    },
    {
      "cell_type": "code",
      "source": [
        "model.b"
      ],
      "metadata": {
        "colab": {
          "base_uri": "https://localhost:8080/"
        },
        "id": "pECICIjf7ok-",
        "outputId": "b3bfdc2b-2722-4c86-d2a9-70573ee2dedf"
      },
      "execution_count": 100,
      "outputs": [
        {
          "output_type": "execute_result",
          "data": {
            "text/plain": [
              "<tf.Variable 'Variable:0' shape=() dtype=float32, numpy=0.0>"
            ]
          },
          "metadata": {},
          "execution_count": 100
        }
      ]
    },
    {
      "cell_type": "code",
      "source": [
        "model.variables"
      ],
      "metadata": {
        "colab": {
          "base_uri": "https://localhost:8080/"
        },
        "id": "zs_4v_dA7p-Y",
        "outputId": "c6c22b38-ee46-4a4e-e72c-7e31a6cfe45e"
      },
      "execution_count": 101,
      "outputs": [
        {
          "output_type": "execute_result",
          "data": {
            "text/plain": [
              "(<tf.Variable 'Variable:0' shape=() dtype=float32, numpy=0.0>,\n",
              " <tf.Variable 'Variable:0' shape=() dtype=float32, numpy=5.0>)"
            ]
          },
          "metadata": {},
          "execution_count": 101
        }
      ]
    },
    {
      "cell_type": "markdown",
      "source": [
        "### Define loss function"
      ],
      "metadata": {
        "id": "GhIp3fZo7xMZ"
      }
    },
    {
      "cell_type": "code",
      "source": [
        "def MSE_loss(target_y, predicted_y):\n",
        "  error = target_y - predicted_y\n",
        "  squared_error = tf.square(error)\n",
        "  mse = tf.reduce_mean(squared_error)\n",
        "  return mse"
      ],
      "metadata": {
        "id": "_EE5h0WG7tky"
      },
      "execution_count": 102,
      "outputs": []
    },
    {
      "cell_type": "code",
      "source": [
        "plt.scatter(x, y, c=\"b\")\n",
        "\n",
        "pred_y = model(x) ## without training\n",
        "plt.scatter(x, pred_y, c=\"r\") \n",
        "\n",
        "plt.show()"
      ],
      "metadata": {
        "colab": {
          "base_uri": "https://localhost:8080/",
          "height": 265
        },
        "id": "YBL05AZP8DGz",
        "outputId": "243f3360-dc02-4713-d133-03f9f7ef6eac"
      },
      "execution_count": 103,
      "outputs": [
        {
          "output_type": "display_data",
          "data": {
            "image/png": "[encoded data removed]",
            "text/plain": [
              "<Figure size 432x288 with 1 Axes>"
            ]
          },
          "metadata": {
            "needs_background": "light"
          }
        }
      ]
    },
    {
      "cell_type": "code",
      "source": [
        "current_loss  = MSE_loss(y, model(x))\n",
        "current_loss.numpy()"
      ],
      "metadata": {
        "colab": {
          "base_uri": "https://localhost:8080/"
        },
        "id": "QnbPsj348Q83",
        "outputId": "16e4554a-6694-42d3-bdaf-4abe5bb9a292"
      },
      "execution_count": 104,
      "outputs": [
        {
          "output_type": "execute_result",
          "data": {
            "text/plain": [
              "9.16618"
            ]
          },
          "metadata": {},
          "execution_count": 104
        }
      ]
    },
    {
      "cell_type": "markdown",
      "source": [
        "### training function def"
      ],
      "metadata": {
        "id": "g1G_PZ318miA"
      }
    },
    {
      "cell_type": "code",
      "source": [
        "def train(model, x, y, learning_rate):\n",
        "\n",
        "  with tf.GradientTape() as tape:\n",
        "    current_loss = MSE_loss(y, model(x))\n",
        "\n",
        "  dc_dw, dc_db = tape.gradient(current_loss, [model.w, model.b])\n",
        "\n",
        "  model.w.assign_sub(learning_rate * dc_dw)\n",
        "  model.b.assign_sub(learning_rate * dc_db)"
      ],
      "metadata": {
        "id": "rt2_p-Rk8ggk"
      },
      "execution_count": 105,
      "outputs": []
    },
    {
      "cell_type": "code",
      "source": [
        "model = MyModel()\n",
        "\n",
        "Ws, bs = [], []\n",
        "\n",
        "epochs = 10*2\n",
        "\n",
        "learning_rate = 0.1\n",
        "\n",
        "w = model.w.numpy()\n",
        "b = model.b.numpy()\n",
        "\n",
        "init_loss = MSE_loss(y, model(x)).numpy()\n",
        "\n",
        "print(f\"Initial W: {w}, initial bias: {b}, initial_loss: {init_loss}\")"
      ],
      "metadata": {
        "colab": {
          "base_uri": "https://localhost:8080/"
        },
        "id": "5estg-TG9UHr",
        "outputId": "3885cb1a-b99d-48d4-870e-60cbdc59063c"
      },
      "execution_count": 106,
      "outputs": [
        {
          "output_type": "stream",
          "name": "stdout",
          "text": [
            "Initial W: 5.0, initial bias: 0.0, initial_loss: 9.166179656982422\n"
          ]
        }
      ]
    },
    {
      "cell_type": "code",
      "source": [
        "for epoch in range(epochs):\n",
        "  train(model, x, y, learning_rate)\n",
        "\n",
        "  Ws.append(model.w.numpy())\n",
        "  bs.append(model.b.numpy())\n",
        "\n",
        "  current_loss = MSE_loss(y, model(x))\n",
        "\n",
        "  print(f\"For epoch: {epoch}, W: {Ws[-1]}, b: {bs[-1]}, current_loss: {current_loss}\")"
      ],
      "metadata": {
        "colab": {
          "base_uri": "https://localhost:8080/"
        },
        "id": "LO7TnnHy9y3G",
        "outputId": "f21732a5-bc4e-47e1-e27e-26ad7819dce3"
      },
      "execution_count": 107,
      "outputs": [
        {
          "output_type": "stream",
          "name": "stdout",
          "text": [
            "For epoch: 0, W: 4.582001209259033, b: 0.3926900029182434, current_loss: 6.208310127258301\n",
            "For epoch: 1, W: 4.250030040740967, b: 0.7081601619720459, current_loss: 4.3223042488098145\n",
            "For epoch: 2, W: 3.9863698482513428, b: 0.961583137512207, current_loss: 3.11958646774292\n",
            "For epoch: 3, W: 3.7769551277160645, b: 1.1651530265808105, current_loss: 2.352508068084717\n",
            "For epoch: 4, W: 3.6106181144714355, b: 1.3286693096160889, current_loss: 1.8632135391235352\n",
            "For epoch: 5, W: 3.47849178314209, b: 1.460006833076477, current_loss: 1.551069736480713\n",
            "For epoch: 6, W: 3.373535394668579, b: 1.5654935836791992, current_loss: 1.3519136905670166\n",
            "For epoch: 7, W: 3.2901580333709717, b: 1.6502139568328857, current_loss: 1.2248320579528809\n",
            "For epoch: 8, W: 3.2239203453063965, b: 1.7182531356811523, current_loss: 1.1437313556671143\n",
            "For epoch: 9, W: 3.1712965965270996, b: 1.7728934288024902, current_loss: 1.0919687747955322\n",
            "For epoch: 10, W: 3.1294867992401123, b: 1.8167715072631836, current_loss: 1.0589275360107422\n",
            "For epoch: 11, W: 3.0962672233581543, b: 1.8520058393478394, current_loss: 1.0378338098526\n",
            "For epoch: 12, W: 3.0698719024658203, b: 1.880298137664795, current_loss: 1.0243664979934692\n",
            "For epoch: 13, W: 3.0488979816436768, b: 1.90301513671875, current_loss: 1.015766978263855\n",
            "For epoch: 14, W: 3.032231092453003, b: 1.9212548732757568, current_loss: 1.0102752447128296\n",
            "For epoch: 15, W: 3.018986225128174, b: 1.935899257659912, current_loss: 1.006767988204956\n",
            "For epoch: 16, W: 3.008460283279419, b: 1.947656512260437, current_loss: 1.0045276880264282\n",
            "For epoch: 17, W: 3.0000948905944824, b: 1.9570955038070679, current_loss: 1.0030964612960815\n",
            "For epoch: 18, W: 2.993446111679077, b: 1.9646731615066528, current_loss: 1.0021822452545166\n",
            "For epoch: 19, W: 2.988161563873291, b: 1.97075617313385, current_loss: 1.0015981197357178\n"
          ]
        }
      ]
    },
    {
      "cell_type": "code",
      "source": [
        "plt.plot(range(epochs), Ws, 'r', range(epochs), bs, \"b\")\n",
        "\n",
        "plt.plot([TRUE_W] * epochs, \"r--\", [TRUE_B] * epochs, \"b--\")\n",
        "\n",
        "plt.legend([\"W\", \"b\", \"True W\", \"True B\"])\n",
        "\n",
        "plt.show()"
      ],
      "metadata": {
        "colab": {
          "base_uri": "https://localhost:8080/",
          "height": 265
        },
        "id": "N0xFi-9i-WEk",
        "outputId": "5bebdb0d-3d01-4eae-fcef-c66adb27e7c8"
      },
      "execution_count": 108,
      "outputs": [
        {
          "output_type": "display_data",
          "data": {
            "image/png": "[encoded data removed]",
            "text/plain": [
              "<Figure size 432x288 with 1 Axes>"
            ]
          },
          "metadata": {
            "needs_background": "light"
          }
        }
      ]
    },
    {
      "cell_type": "code",
      "source": [
        "plt.scatter(x, y, c=\"b\")\n",
        "\n",
        "pred_y = model(x) ## after training\n",
        "plt.scatter(x, pred_y, c=\"r\") \n",
        "\n",
        "plt.show()"
      ],
      "metadata": {
        "colab": {
          "base_uri": "https://localhost:8080/",
          "height": 265
        },
        "id": "ELZIh7Zq-9M3",
        "outputId": "f1293145-21c7-4441-e9b9-88c8a0c69839"
      },
      "execution_count": 109,
      "outputs": [
        {
          "output_type": "display_data",
          "data": {
            "image/png": "[encoded data removed]",
            "text/plain": [
              "<Figure size 432x288 with 1 Axes>"
            ]
          },
          "metadata": {
            "needs_background": "light"
          }
        }
      ]
    }
  ]
}